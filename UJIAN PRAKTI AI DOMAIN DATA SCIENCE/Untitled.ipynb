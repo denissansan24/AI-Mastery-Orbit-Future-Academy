{
 "cells": [
  {
   "cell_type": "code",
   "execution_count": 68,
   "id": "94415a20",
   "metadata": {},
   "outputs": [],
   "source": [
    "import numpy as np\n",
    "import pandas as pd\n",
    "import matplotlib.pyplot as plt\n",
    "import seaborn as sns\n",
    "import warnings\n",
    "warnings.filterwarnings('ignore')"
   ]
  },
  {
   "cell_type": "code",
   "execution_count": 69,
   "id": "e874e845",
   "metadata": {},
   "outputs": [],
   "source": [
    "data = pd.read_csv('IPM.csv')"
   ]
  },
  {
   "cell_type": "code",
   "execution_count": 70,
   "id": "4b2a4404",
   "metadata": {},
   "outputs": [
    {
     "data": {
      "text/html": [
       "<div>\n",
       "<style scoped>\n",
       "    .dataframe tbody tr th:only-of-type {\n",
       "        vertical-align: middle;\n",
       "    }\n",
       "\n",
       "    .dataframe tbody tr th {\n",
       "        vertical-align: top;\n",
       "    }\n",
       "\n",
       "    .dataframe thead th {\n",
       "        text-align: right;\n",
       "    }\n",
       "</style>\n",
       "<table border=\"1\" class=\"dataframe\">\n",
       "  <thead>\n",
       "    <tr style=\"text-align: right;\">\n",
       "      <th></th>\n",
       "      <th>Harapan_Lama_Sekolah</th>\n",
       "      <th>Pengeluaran_Perkapita</th>\n",
       "      <th>Rerata_Lama_Sekolah</th>\n",
       "      <th>Usia_Harapan_Hidup</th>\n",
       "      <th>IPM</th>\n",
       "    </tr>\n",
       "  </thead>\n",
       "  <tbody>\n",
       "    <tr>\n",
       "      <th>0</th>\n",
       "      <td>14.36</td>\n",
       "      <td>9572</td>\n",
       "      <td>9.37</td>\n",
       "      <td>69.96</td>\n",
       "      <td>High</td>\n",
       "    </tr>\n",
       "    <tr>\n",
       "      <th>1</th>\n",
       "      <td>13.90</td>\n",
       "      <td>7148</td>\n",
       "      <td>9.48</td>\n",
       "      <td>65.28</td>\n",
       "      <td>Normal</td>\n",
       "    </tr>\n",
       "    <tr>\n",
       "      <th>2</th>\n",
       "      <td>14.32</td>\n",
       "      <td>8776</td>\n",
       "      <td>8.68</td>\n",
       "      <td>67.43</td>\n",
       "      <td>Normal</td>\n",
       "    </tr>\n",
       "    <tr>\n",
       "      <th>3</th>\n",
       "      <td>14.60</td>\n",
       "      <td>8180</td>\n",
       "      <td>8.88</td>\n",
       "      <td>64.40</td>\n",
       "      <td>Normal</td>\n",
       "    </tr>\n",
       "    <tr>\n",
       "      <th>4</th>\n",
       "      <td>14.01</td>\n",
       "      <td>8030</td>\n",
       "      <td>9.67</td>\n",
       "      <td>68.22</td>\n",
       "      <td>Normal</td>\n",
       "    </tr>\n",
       "  </tbody>\n",
       "</table>\n",
       "</div>"
      ],
      "text/plain": [
       "   Harapan_Lama_Sekolah  Pengeluaran_Perkapita  Rerata_Lama_Sekolah  \\\n",
       "0                 14.36                   9572                 9.37   \n",
       "1                 13.90                   7148                 9.48   \n",
       "2                 14.32                   8776                 8.68   \n",
       "3                 14.60                   8180                 8.88   \n",
       "4                 14.01                   8030                 9.67   \n",
       "\n",
       "   Usia_Harapan_Hidup     IPM  \n",
       "0               69.96    High  \n",
       "1               65.28  Normal  \n",
       "2               67.43  Normal  \n",
       "3               64.40  Normal  \n",
       "4               68.22  Normal  "
      ]
     },
     "execution_count": 70,
     "metadata": {},
     "output_type": "execute_result"
    }
   ],
   "source": [
    "data.head()"
   ]
  },
  {
   "cell_type": "code",
   "execution_count": 71,
   "id": "900462fd",
   "metadata": {},
   "outputs": [
    {
     "data": {
      "text/html": [
       "<div>\n",
       "<style scoped>\n",
       "    .dataframe tbody tr th:only-of-type {\n",
       "        vertical-align: middle;\n",
       "    }\n",
       "\n",
       "    .dataframe tbody tr th {\n",
       "        vertical-align: top;\n",
       "    }\n",
       "\n",
       "    .dataframe thead th {\n",
       "        text-align: right;\n",
       "    }\n",
       "</style>\n",
       "<table border=\"1\" class=\"dataframe\">\n",
       "  <thead>\n",
       "    <tr style=\"text-align: right;\">\n",
       "      <th></th>\n",
       "      <th>Harapan_Lama_Sekolah</th>\n",
       "      <th>Pengeluaran_Perkapita</th>\n",
       "      <th>Rerata_Lama_Sekolah</th>\n",
       "      <th>Usia_Harapan_Hidup</th>\n",
       "      <th>IPM</th>\n",
       "    </tr>\n",
       "  </thead>\n",
       "  <tbody>\n",
       "    <tr>\n",
       "      <th>2191</th>\n",
       "      <td>10.13</td>\n",
       "      <td>5522</td>\n",
       "      <td>4.91</td>\n",
       "      <td>65.32</td>\n",
       "      <td>Low</td>\n",
       "    </tr>\n",
       "    <tr>\n",
       "      <th>2192</th>\n",
       "      <td>7.11</td>\n",
       "      <td>5440</td>\n",
       "      <td>2.51</td>\n",
       "      <td>65.26</td>\n",
       "      <td>Low</td>\n",
       "    </tr>\n",
       "    <tr>\n",
       "      <th>2193</th>\n",
       "      <td>9.79</td>\n",
       "      <td>4761</td>\n",
       "      <td>2.99</td>\n",
       "      <td>64.83</td>\n",
       "      <td>Low</td>\n",
       "    </tr>\n",
       "    <tr>\n",
       "      <th>2194</th>\n",
       "      <td>14.99</td>\n",
       "      <td>14922</td>\n",
       "      <td>11.30</td>\n",
       "      <td>70.15</td>\n",
       "      <td>High</td>\n",
       "    </tr>\n",
       "    <tr>\n",
       "      <th>2195</th>\n",
       "      <td>12.91</td>\n",
       "      <td>11059</td>\n",
       "      <td>8.17</td>\n",
       "      <td>71.20</td>\n",
       "      <td>High</td>\n",
       "    </tr>\n",
       "  </tbody>\n",
       "</table>\n",
       "</div>"
      ],
      "text/plain": [
       "      Harapan_Lama_Sekolah  Pengeluaran_Perkapita  Rerata_Lama_Sekolah  \\\n",
       "2191                 10.13                   5522                 4.91   \n",
       "2192                  7.11                   5440                 2.51   \n",
       "2193                  9.79                   4761                 2.99   \n",
       "2194                 14.99                  14922                11.30   \n",
       "2195                 12.91                  11059                 8.17   \n",
       "\n",
       "      Usia_Harapan_Hidup   IPM  \n",
       "2191               65.32   Low  \n",
       "2192               65.26   Low  \n",
       "2193               64.83   Low  \n",
       "2194               70.15  High  \n",
       "2195               71.20  High  "
      ]
     },
     "execution_count": 71,
     "metadata": {},
     "output_type": "execute_result"
    }
   ],
   "source": [
    "data.tail()"
   ]
  },
  {
   "cell_type": "code",
   "execution_count": 72,
   "id": "72a71a58",
   "metadata": {},
   "outputs": [
    {
     "data": {
      "text/plain": [
       "(2196, 5)"
      ]
     },
     "execution_count": 72,
     "metadata": {},
     "output_type": "execute_result"
    }
   ],
   "source": [
    "data.shape"
   ]
  },
  {
   "cell_type": "code",
   "execution_count": 73,
   "id": "1b5f1eb2",
   "metadata": {},
   "outputs": [
    {
     "data": {
      "text/plain": [
       "0"
      ]
     },
     "execution_count": 73,
     "metadata": {},
     "output_type": "execute_result"
    }
   ],
   "source": [
    "data.duplicated().sum()"
   ]
  },
  {
   "cell_type": "code",
   "execution_count": 74,
   "id": "2ee4fb01",
   "metadata": {},
   "outputs": [
    {
     "data": {
      "text/plain": [
       "Harapan_Lama_Sekolah     0\n",
       "Pengeluaran_Perkapita    0\n",
       "Rerata_Lama_Sekolah      0\n",
       "Usia_Harapan_Hidup       0\n",
       "IPM                      0\n",
       "dtype: int64"
      ]
     },
     "execution_count": 74,
     "metadata": {},
     "output_type": "execute_result"
    }
   ],
   "source": [
    "data.isnull().sum()"
   ]
  },
  {
   "cell_type": "code",
   "execution_count": 75,
   "id": "f0bbe9a9",
   "metadata": {},
   "outputs": [
    {
     "name": "stdout",
     "output_type": "stream",
     "text": [
      "<class 'pandas.core.frame.DataFrame'>\n",
      "RangeIndex: 2196 entries, 0 to 2195\n",
      "Data columns (total 5 columns):\n",
      " #   Column                 Non-Null Count  Dtype  \n",
      "---  ------                 --------------  -----  \n",
      " 0   Harapan_Lama_Sekolah   2196 non-null   float64\n",
      " 1   Pengeluaran_Perkapita  2196 non-null   int64  \n",
      " 2   Rerata_Lama_Sekolah    2196 non-null   float64\n",
      " 3   Usia_Harapan_Hidup     2196 non-null   float64\n",
      " 4   IPM                    2196 non-null   object \n",
      "dtypes: float64(3), int64(1), object(1)\n",
      "memory usage: 85.9+ KB\n"
     ]
    }
   ],
   "source": [
    "data.info()"
   ]
  },
  {
   "cell_type": "code",
   "execution_count": 76,
   "id": "3f6f55c2",
   "metadata": {},
   "outputs": [
    {
     "data": {
      "text/html": [
       "<div>\n",
       "<style scoped>\n",
       "    .dataframe tbody tr th:only-of-type {\n",
       "        vertical-align: middle;\n",
       "    }\n",
       "\n",
       "    .dataframe tbody tr th {\n",
       "        vertical-align: top;\n",
       "    }\n",
       "\n",
       "    .dataframe thead th {\n",
       "        text-align: right;\n",
       "    }\n",
       "</style>\n",
       "<table border=\"1\" class=\"dataframe\">\n",
       "  <thead>\n",
       "    <tr style=\"text-align: right;\">\n",
       "      <th></th>\n",
       "      <th>Harapan_Lama_Sekolah</th>\n",
       "      <th>Pengeluaran_Perkapita</th>\n",
       "      <th>Rerata_Lama_Sekolah</th>\n",
       "      <th>Usia_Harapan_Hidup</th>\n",
       "    </tr>\n",
       "  </thead>\n",
       "  <tbody>\n",
       "    <tr>\n",
       "      <th>count</th>\n",
       "      <td>2196.000000</td>\n",
       "      <td>2196.000000</td>\n",
       "      <td>2196.000000</td>\n",
       "      <td>2196.000000</td>\n",
       "    </tr>\n",
       "    <tr>\n",
       "      <th>mean</th>\n",
       "      <td>12.931498</td>\n",
       "      <td>10323.144353</td>\n",
       "      <td>8.291585</td>\n",
       "      <td>69.467418</td>\n",
       "    </tr>\n",
       "    <tr>\n",
       "      <th>std</th>\n",
       "      <td>1.312967</td>\n",
       "      <td>2664.738311</td>\n",
       "      <td>1.611256</td>\n",
       "      <td>3.437536</td>\n",
       "    </tr>\n",
       "    <tr>\n",
       "      <th>min</th>\n",
       "      <td>2.950000</td>\n",
       "      <td>3975.000000</td>\n",
       "      <td>0.850000</td>\n",
       "      <td>54.820000</td>\n",
       "    </tr>\n",
       "    <tr>\n",
       "      <th>25%</th>\n",
       "      <td>12.350000</td>\n",
       "      <td>8599.750000</td>\n",
       "      <td>7.390000</td>\n",
       "      <td>67.210000</td>\n",
       "    </tr>\n",
       "    <tr>\n",
       "      <th>50%</th>\n",
       "      <td>12.860000</td>\n",
       "      <td>10192.500000</td>\n",
       "      <td>8.180000</td>\n",
       "      <td>69.785000</td>\n",
       "    </tr>\n",
       "    <tr>\n",
       "      <th>75%</th>\n",
       "      <td>13.570000</td>\n",
       "      <td>11670.500000</td>\n",
       "      <td>9.180000</td>\n",
       "      <td>71.712500</td>\n",
       "    </tr>\n",
       "    <tr>\n",
       "      <th>max</th>\n",
       "      <td>17.800000</td>\n",
       "      <td>23888.000000</td>\n",
       "      <td>12.830000</td>\n",
       "      <td>77.730000</td>\n",
       "    </tr>\n",
       "  </tbody>\n",
       "</table>\n",
       "</div>"
      ],
      "text/plain": [
       "       Harapan_Lama_Sekolah  Pengeluaran_Perkapita  Rerata_Lama_Sekolah  \\\n",
       "count           2196.000000            2196.000000          2196.000000   \n",
       "mean              12.931498           10323.144353             8.291585   \n",
       "std                1.312967            2664.738311             1.611256   \n",
       "min                2.950000            3975.000000             0.850000   \n",
       "25%               12.350000            8599.750000             7.390000   \n",
       "50%               12.860000           10192.500000             8.180000   \n",
       "75%               13.570000           11670.500000             9.180000   \n",
       "max               17.800000           23888.000000            12.830000   \n",
       "\n",
       "       Usia_Harapan_Hidup  \n",
       "count         2196.000000  \n",
       "mean            69.467418  \n",
       "std              3.437536  \n",
       "min             54.820000  \n",
       "25%             67.210000  \n",
       "50%             69.785000  \n",
       "75%             71.712500  \n",
       "max             77.730000  "
      ]
     },
     "execution_count": 76,
     "metadata": {},
     "output_type": "execute_result"
    }
   ],
   "source": [
    "data.describe()"
   ]
  },
  {
   "cell_type": "code",
   "execution_count": 77,
   "id": "d60b377e",
   "metadata": {},
   "outputs": [
    {
     "data": {
      "text/plain": [
       "Harapan_Lama_Sekolah      499\n",
       "Pengeluaran_Perkapita    1930\n",
       "Rerata_Lama_Sekolah       633\n",
       "Usia_Harapan_Hidup       1054\n",
       "IPM                         4\n",
       "dtype: int64"
      ]
     },
     "execution_count": 77,
     "metadata": {},
     "output_type": "execute_result"
    }
   ],
   "source": [
    "data.nunique()"
   ]
  },
  {
   "cell_type": "code",
   "execution_count": 78,
   "id": "97b2ca7b",
   "metadata": {},
   "outputs": [],
   "source": [
    "data_cat = data[['IPM']]"
   ]
  },
  {
   "cell_type": "code",
   "execution_count": 79,
   "id": "c9f36a45",
   "metadata": {},
   "outputs": [
    {
     "data": {
      "text/html": [
       "<div>\n",
       "<style scoped>\n",
       "    .dataframe tbody tr th:only-of-type {\n",
       "        vertical-align: middle;\n",
       "    }\n",
       "\n",
       "    .dataframe tbody tr th {\n",
       "        vertical-align: top;\n",
       "    }\n",
       "\n",
       "    .dataframe thead th {\n",
       "        text-align: right;\n",
       "    }\n",
       "</style>\n",
       "<table border=\"1\" class=\"dataframe\">\n",
       "  <thead>\n",
       "    <tr style=\"text-align: right;\">\n",
       "      <th></th>\n",
       "      <th>IPM</th>\n",
       "    </tr>\n",
       "  </thead>\n",
       "  <tbody>\n",
       "    <tr>\n",
       "      <th>0</th>\n",
       "      <td>High</td>\n",
       "    </tr>\n",
       "    <tr>\n",
       "      <th>1</th>\n",
       "      <td>Normal</td>\n",
       "    </tr>\n",
       "    <tr>\n",
       "      <th>2</th>\n",
       "      <td>Normal</td>\n",
       "    </tr>\n",
       "    <tr>\n",
       "      <th>3</th>\n",
       "      <td>Normal</td>\n",
       "    </tr>\n",
       "    <tr>\n",
       "      <th>4</th>\n",
       "      <td>Normal</td>\n",
       "    </tr>\n",
       "    <tr>\n",
       "      <th>...</th>\n",
       "      <td>...</td>\n",
       "    </tr>\n",
       "    <tr>\n",
       "      <th>2191</th>\n",
       "      <td>Low</td>\n",
       "    </tr>\n",
       "    <tr>\n",
       "      <th>2192</th>\n",
       "      <td>Low</td>\n",
       "    </tr>\n",
       "    <tr>\n",
       "      <th>2193</th>\n",
       "      <td>Low</td>\n",
       "    </tr>\n",
       "    <tr>\n",
       "      <th>2194</th>\n",
       "      <td>High</td>\n",
       "    </tr>\n",
       "    <tr>\n",
       "      <th>2195</th>\n",
       "      <td>High</td>\n",
       "    </tr>\n",
       "  </tbody>\n",
       "</table>\n",
       "<p>2196 rows × 1 columns</p>\n",
       "</div>"
      ],
      "text/plain": [
       "         IPM\n",
       "0       High\n",
       "1     Normal\n",
       "2     Normal\n",
       "3     Normal\n",
       "4     Normal\n",
       "...      ...\n",
       "2191     Low\n",
       "2192     Low\n",
       "2193     Low\n",
       "2194    High\n",
       "2195    High\n",
       "\n",
       "[2196 rows x 1 columns]"
      ]
     },
     "execution_count": 79,
     "metadata": {},
     "output_type": "execute_result"
    }
   ],
   "source": [
    "data_cat"
   ]
  },
  {
   "cell_type": "code",
   "execution_count": 80,
   "id": "7708a312",
   "metadata": {},
   "outputs": [
    {
     "name": "stdout",
     "output_type": "stream",
     "text": [
      "['High' 'Normal' 'Very-High' 'Low']\n"
     ]
    }
   ],
   "source": [
    "for i in data_cat.columns:\n",
    "    print(data_cat[i].unique())"
   ]
  },
  {
   "cell_type": "code",
   "execution_count": 81,
   "id": "94cfaf98",
   "metadata": {},
   "outputs": [
    {
     "name": "stdout",
     "output_type": "stream",
     "text": [
      "Normal       1128\n",
      "High          829\n",
      "Very-High     146\n",
      "Low            93\n",
      "Name: IPM, dtype: int64\n"
     ]
    }
   ],
   "source": [
    "for i in data_cat.columns:\n",
    "    print(data_cat[i].value_counts())"
   ]
  },
  {
   "cell_type": "code",
   "execution_count": 86,
   "id": "4d0e1566",
   "metadata": {},
   "outputs": [],
   "source": [
    "from scipy import stats\n",
    "from scipy.stats import norm\n",
    "sns.distplot(data['Harapan_Lama_Sekolah'],fit=norm);\n",
    "fig = plt.figure()\n",
    "res = stats.probplot(data['Harapan_Lama_Sekolah'],plot=plt)"
   ]
  },
  {
   "cell_type": "code",
   "execution_count": null,
   "id": "4acbd44a",
   "metadata": {},
   "outputs": [],
   "source": []
  },
  {
   "cell_type": "code",
   "execution_count": null,
   "id": "a34690e6",
   "metadata": {},
   "outputs": [],
   "source": []
  }
 ],
 "metadata": {
  "kernelspec": {
   "display_name": "Python 3 (ipykernel)",
   "language": "python",
   "name": "python3"
  },
  "language_info": {
   "codemirror_mode": {
    "name": "ipython",
    "version": 3
   },
   "file_extension": ".py",
   "mimetype": "text/x-python",
   "name": "python",
   "nbconvert_exporter": "python",
   "pygments_lexer": "ipython3",
   "version": "3.9.13"
  }
 },
 "nbformat": 4,
 "nbformat_minor": 5
}
